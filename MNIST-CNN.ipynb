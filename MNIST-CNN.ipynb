{
 "cells": [
  {
   "cell_type": "code",
   "execution_count": 2,
   "metadata": {
    "collapsed": true
   },
   "outputs": [],
   "source": [
    "from tensorflow.examples.tutorials.mnist import input_data"
   ]
  },
  {
   "cell_type": "code",
   "execution_count": 3,
   "metadata": {},
   "outputs": [
    {
     "name": "stdout",
     "output_type": "stream",
     "text": [
      "Extracting MNIST_data/train-images-idx3-ubyte.gz\n",
      "Extracting MNIST_data/train-labels-idx1-ubyte.gz\n",
      "Extracting MNIST_data/t10k-images-idx3-ubyte.gz\n",
      "Extracting MNIST_data/t10k-labels-idx1-ubyte.gz\n"
     ]
    }
   ],
   "source": [
    "mnist = input_data.read_data_sets(\"MNIST_data/\",one_hot = True)"
   ]
  },
  {
   "cell_type": "code",
   "execution_count": 4,
   "metadata": {
    "collapsed": true
   },
   "outputs": [],
   "source": [
    "import tensorflow as tf"
   ]
  },
  {
   "cell_type": "code",
   "execution_count": 5,
   "metadata": {
    "collapsed": true
   },
   "outputs": [],
   "source": [
    "x_in = tf.placeholder(\"float\", shape = [None, 784])\n",
    "y_label = tf.placeholder(\"float\", shape = [None, 10])\n",
    "w_c1 = tf.Variable(tf.truncated_normal([5,5,1,32],stddev = 0.1)) \n",
    "b_c1 = tf.Variable(tf.constant(0.1, shape = [32]))\n",
    "w_c2 = tf.Variable(tf.truncated_normal([5,5,32,64],stddev = 0.1)) \n",
    "b_c2 = tf.Variable(tf.constant(0.1, shape = [64]))\n",
    "w_f1 = tf.Variable(tf.truncated_normal([3136,1024],stddev = 0.1))\n",
    "b_f1 = tf.Variable(tf.constant(0.1, shape = [1024]))\n",
    "w_f2 = tf.Variable(tf.truncated_normal([1024,10],stddev = 0.1))\n",
    "b_f2 = tf.Variable(tf.constant(0.1, shape = [10]))"
   ]
  },
  {
   "cell_type": "code",
   "execution_count": 6,
   "metadata": {
    "collapsed": true
   },
   "outputs": [],
   "source": [
    "x_re = tf.reshape(x_in, [-1,28,28,1])"
   ]
  },
  {
   "cell_type": "code",
   "execution_count": 7,
   "metadata": {
    "collapsed": true
   },
   "outputs": [],
   "source": [
    "h_c1 = tf.nn.relu(tf.nn.conv2d(x_re,w_c1,strides = [1,1,1,1], padding = 'SAME') + b_c1)"
   ]
  },
  {
   "cell_type": "code",
   "execution_count": 8,
   "metadata": {
    "collapsed": true
   },
   "outputs": [],
   "source": [
    "h_c1p = tf.nn.max_pool(h_c1,ksize=[1, 2, 2, 1], strides = [1,2,2,1], padding = 'SAME')"
   ]
  },
  {
   "cell_type": "code",
   "execution_count": 9,
   "metadata": {
    "collapsed": true
   },
   "outputs": [],
   "source": [
    "h_c2 = tf.nn.relu(tf.nn.conv2d(h_c1p,w_c2,strides = [1,1,1,1], padding = 'SAME') + b_c2)"
   ]
  },
  {
   "cell_type": "code",
   "execution_count": 10,
   "metadata": {
    "collapsed": true
   },
   "outputs": [],
   "source": [
    "h_c2p = tf.nn.max_pool(h_c2,ksize=[1,2,2,1], strides=[1,2,2,1], padding='SAME')"
   ]
  },
  {
   "cell_type": "code",
   "execution_count": 11,
   "metadata": {
    "collapsed": true,
    "scrolled": false
   },
   "outputs": [],
   "source": [
    "h_c2p_re = tf.reshape(h_c2p, [-1,3136])"
   ]
  },
  {
   "cell_type": "code",
   "execution_count": 12,
   "metadata": {
    "collapsed": true
   },
   "outputs": [],
   "source": [
    "h_fc = tf.nn.relu(tf.matmul(h_c2p_re,w_f1) + b_f1)"
   ]
  },
  {
   "cell_type": "code",
   "execution_count": 13,
   "metadata": {
    "collapsed": true
   },
   "outputs": [],
   "source": [
    "dp_p = tf.placeholder(\"float\")\n",
    "dp = tf.nn.dropout(h_fc, dp_p)"
   ]
  },
  {
   "cell_type": "code",
   "execution_count": 14,
   "metadata": {
    "collapsed": true
   },
   "outputs": [],
   "source": [
    "y_out = tf.nn.softmax(tf.matmul(dp,w_f2) + b_f2)"
   ]
  },
  {
   "cell_type": "code",
   "execution_count": 15,
   "metadata": {
    "collapsed": true
   },
   "outputs": [],
   "source": [
    "c_entropy = - tf.reduce_sum(y_label * tf.log(y_out))\n",
    "training_step = tf.train.AdamOptimizer(1e-4).minimize(c_entropy)\n",
    "an = tf.cast(tf.equal(tf.argmax(y_label,1),tf.argmax(y_out,1)),\"float\")\n",
    "correct = tf.reduce_mean(an)"
   ]
  },
  {
   "cell_type": "code",
   "execution_count": 16,
   "metadata": {
    "collapsed": true
   },
   "outputs": [],
   "source": [
    "sess = tf.Session()\n",
    "sess.run(tf.global_variables_initializer())"
   ]
  },
  {
   "cell_type": "code",
   "execution_count": 22,
   "metadata": {},
   "outputs": [
    {
     "name": "stdout",
     "output_type": "stream",
     "text": [
      "step : 0, acc : 0.966667\n",
      "step : 1000, acc : 0.9\n",
      "step : 2000, acc : 0.966667\n",
      "step : 3000, acc : 0.933333\n",
      "step : 4000, acc : 0.933333\n"
     ]
    }
   ],
   "source": [
    "for t in range(5000):\n",
    "    batch = mnist.train.next_batch(30)\n",
    "    if t% 1000 == 0:\n",
    "        t_a = sess.run(correct,feed_dict={x_in:batch[0], y_label:batch[1], dp_p : 1.0})\n",
    "        print(\"step : %d, acc : %g\"%(t,t_a))\n",
    "    sess.run(training_step,feed_dict = {x_in:batch[0], y_label:batch[1], dp_p : 0.7})"
   ]
  },
  {
   "cell_type": "code",
   "execution_count": 23,
   "metadata": {},
   "outputs": [
    {
     "name": "stdout",
     "output_type": "stream",
     "text": [
      "0.9862\n"
     ]
    }
   ],
   "source": [
    "print(sess.run(correct,feed_dict={x_in:mnist.test.images, y_label:mnist.test.labels, dp_p : 1.0}))"
   ]
  },
  {
   "cell_type": "code",
   "execution_count": null,
   "metadata": {
    "collapsed": true
   },
   "outputs": [],
   "source": []
  }
 ],
 "metadata": {
  "kernelspec": {
   "display_name": "Python 3",
   "language": "python",
   "name": "python3"
  },
  "language_info": {
   "codemirror_mode": {
    "name": "ipython",
    "version": 3
   },
   "file_extension": ".py",
   "mimetype": "text/x-python",
   "name": "python",
   "nbconvert_exporter": "python",
   "pygments_lexer": "ipython3",
   "version": "3.6.1"
  }
 },
 "nbformat": 4,
 "nbformat_minor": 2
}
